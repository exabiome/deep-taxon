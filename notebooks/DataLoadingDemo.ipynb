{
 "cells": [
  {
   "cell_type": "code",
   "execution_count": 1,
   "id": "00fb709f-4da2-443a-9559-e13843efc172",
   "metadata": {},
   "outputs": [],
   "source": [
    "%matplotlib inline\n",
    "import matplotlib.pyplot as plt\n",
    "from exabiome.nn.loader import LazySeqDataset, train_test_loaders"
   ]
  },
  {
   "cell_type": "code",
   "execution_count": 2,
   "id": "f1134964-d94e-4442-972c-32c8fa770673",
   "metadata": {},
   "outputs": [],
   "source": [
    "path = 'ar122_r202.toy.input.h5'"
   ]
  },
  {
   "cell_type": "markdown",
   "id": "7ac03843-4640-4392-a0b7-e1a0eac58786",
   "metadata": {},
   "source": [
    "## Open file\n",
    "\n",
    "A few things to note:\n",
    "\n",
    "- we are chunking data into 4kb chunks (i.e. `window=4096, step=4096`). \n",
    "- we are keeping the underlying HDF5 file open. (i.e. `keep_open=True`)\n",
    "  - this means we cannot just pass this into a DataLoder with `num_workers > 0`\n",
    "- we are preparing the data for a graph learning task (i.e. `graph=True`)\n",
    "  - this means the attribute `node_ids` will be populated so we can map taxa IDs to\n",
    "    their respective node in the tree graph\n",
    "  \n",
    "See `?LazySeqDataset` for documentation on other options."
   ]
  },
  {
   "cell_type": "code",
   "execution_count": 3,
   "id": "bc31f27f-aae3-4ccf-8d6b-a8d11b5ddb69",
   "metadata": {},
   "outputs": [],
   "source": [
    "dset = LazySeqDataset(path=path, window=4096, step=4096, keep_open=True, graph=True)"
   ]
  },
  {
   "cell_type": "markdown",
   "id": "6036691e-ba99-454c-83f4-2e5926856a06",
   "metadata": {},
   "source": [
    "Let's look at some samples:"
   ]
  },
  {
   "cell_type": "code",
   "execution_count": 4,
   "id": "23790c1c-4db2-4bd0-94bc-273f5a5a1f7c",
   "metadata": {},
   "outputs": [
    {
     "data": {
      "text/plain": [
       "((0, tensor([ 9,  9, 10,  ...,  9,  0,  9]), tensor(0), 0),\n",
       " (1, tensor([0, 0, 1,  ..., 0, 9, 0]), tensor(0), 0),\n",
       " (189005, tensor([ 1, 10, 10,  ...,  9,  0,  9]), tensor(165), 17219),\n",
       " (189004, tensor([10,  1,  1,  ...,  0,  9,  0]), tensor(165), 17219))"
      ]
     },
     "execution_count": 4,
     "metadata": {},
     "output_type": "execute_result"
    }
   ],
   "source": [
    "dset[0], dset[1], dset[-1], dset[-2]"
   ]
  },
  {
   "cell_type": "markdown",
   "id": "f2c49af4-fd4d-4563-8762-753aad90213c",
   "metadata": {},
   "source": [
    "Each element returned by `__getitem__` is a tuple with the following elements:\n",
    "\n",
    "0. the sample ID\n",
    "1. the sample sequence\n",
    "2. the sample label\n",
    "   - If you used `graph=True` or `manifold=True`, this will species ID. If you used\n",
    "   `classify=True`, this will be the ID of the taxonomic label specificed in `tgt_tax_lvl`\n",
    "3. sequence ID\n",
    "   - If sequences are chunked, this will be the ID for the sequence from which this\n",
    "   sequence chunk was derived"
   ]
  },
  {
   "cell_type": "markdown",
   "id": "e9d4d13d-f5e3-4391-87ff-c93da1f3ad8c",
   "metadata": {},
   "source": [
    "## Get the graph representation of the tree\n",
    "\n",
    "By default, a `scipy.sparse.csr_matrix` is returned, so you easily convert to your preferred sparse matrix "
   ]
  },
  {
   "cell_type": "code",
   "execution_count": 5,
   "id": "685f05a4-b191-4a7c-ad3d-e8989420d4d1",
   "metadata": {},
   "outputs": [],
   "source": [
    "csr_graph = dset.get_graph()"
   ]
  },
  {
   "cell_type": "code",
   "execution_count": 6,
   "id": "e8ce9b17-39ec-4ee1-a611-6f84f988625d",
   "metadata": {},
   "outputs": [
    {
     "data": {
      "text/plain": [
       "<matplotlib.image.AxesImage at 0x2aab303bb250>"
      ]
     },
     "execution_count": 6,
     "metadata": {},
     "output_type": "execute_result"
    },
    {
     "data": {
      "image/png": "[encoded data removed]",
      "text/plain": [
       "<Figure size 432x288 with 1 Axes>"
      ]
     },
     "metadata": {
      "needs_background": "light"
     },
     "output_type": "display_data"
    }
   ],
   "source": [
    "plt.imshow(csr_graph.todense() != 0, cmap='Greys')"
   ]
  },
  {
   "cell_type": "markdown",
   "id": "f550d2d0-1e0c-4219-9a0c-818bb8c3a377",
   "metadata": {},
   "source": [
    "# Get DataLoaders\n",
    "\n",
    "- we are asking for DataLoaders to collate data for graph learning. \n",
    "  - this means that the label that gets returned by `__getitem__` will be a node ID into the tree graph\n",
    " \n",
    "See `?train_test_loaders` for documentation on other options"
   ]
  },
  {
   "cell_type": "code",
   "execution_count": 7,
   "id": "ec155227-8188-4b0a-becf-3e8f7d09216c",
   "metadata": {},
   "outputs": [],
   "source": [
    "tr, va, te = train_test_loaders(dset, batch_size=32)"
   ]
  },
  {
   "cell_type": "markdown",
   "id": "851ae4d0-be3b-4bba-a428-30c31afb546b",
   "metadata": {},
   "source": [
    "Let's look at a single batch:"
   ]
  },
  {
   "cell_type": "code",
   "execution_count": 8,
   "id": "de33ac1d-b81c-4407-b0c0-784c51456804",
   "metadata": {},
   "outputs": [
    {
     "name": "stdout",
     "output_type": "stream",
     "text": [
      "(tensor([ 88975, 142399,  34183, 151616,  79662,  33909,  63421, 127239,  80309,\n",
      "         93626,  61152, 147765,  93140,   7757, 180133,  98488,  40924,  35036,\n",
      "        173823,  74576, 106471, 110431, 131430,  81946,  40436,   5777, 170899,\n",
      "         37758,  58083,  67648, 182802, 140442]), tensor([[ 9,  1, 10,  ...,  0, 10, 10],\n",
      "        [10,  1, 10,  ...,  0, 10, 10],\n",
      "        [ 9,  0, 10,  ...,  0,  9,  9],\n",
      "        ...,\n",
      "        [ 0,  9,  0,  ...,  0,  0,  9],\n",
      "        [ 1,  9,  1,  ...,  0,  0,  0],\n",
      "        [ 9, 10,  9,  ...,  0,  0,  0]]), tensor([289,  63, 229,  84, 199, 229, 124, 137,  11,   0,  96,  54, 284,  61,\n",
      "         45,  32,  24,  41, 243, 195, 129,  47,  49, 306,  24,  82, 325, 115,\n",
      "        237, 165, 265, 118]), tensor([4096, 4096, 4096, 4096, 4096, 4096, 4096, 4096, 4096, 4096, 4096, 4096,\n",
      "        2577, 4096, 4096, 4096, 4096, 4096, 4096, 4096, 2372, 4096, 4096, 4096,\n",
      "        4096, 4096, 4096, 4096, 1584, 4096, 2707, 1263]), tensor([ 7118, 12212,  2415, 13311,  6728,  2408,  5111, 10474,  6740,  7591,\n",
      "         4830, 13201,  7490,   583, 15829,  7990,  2919,  2480, 15214,  6151,\n",
      "         9057,  9245, 10763,  6784,  2882,   465, 15126,  2637,  4618,  5394,\n",
      "        16126, 12025]))\n"
     ]
    }
   ],
   "source": [
    "for batch in tr:\n",
    "    print(batch)\n",
    "    break"
   ]
  }
 ],
 "metadata": {
  "kernelspec": {
   "display_name": "exabiome_38",
   "language": "python",
   "name": "exabiome_38"
  },
  "language_info": {
   "codemirror_mode": {
    "name": "ipython",
    "version": 3
   },
   "file_extension": ".py",
   "mimetype": "text/x-python",
   "name": "python",
   "nbconvert_exporter": "python",
   "pygments_lexer": "ipython3",
   "version": "3.8.3"
  }
 },
 "nbformat": 4,
 "nbformat_minor": 5
}
