{
 "cells": [
  {
   "cell_type": "code",
   "execution_count": 1,
   "id": "2b7aeaab-efd2-475c-8745-2737becc7d62",
   "metadata": {},
   "outputs": [],
   "source": [
    "import matplotlib.pyplot as plt\n",
    "import pandas as pd\n",
    "import numpy as np\n",
    "from sklearn.metrics import jaccard_score\n",
    "from scipy.spatial.distance import pdist\n",
    "from functools import partial"
   ]
  },
  {
   "cell_type": "code",
   "execution_count": 2,
   "id": "0b81a9e0-1b79-4d33-8698-bbaba0201911",
   "metadata": {},
   "outputs": [
    {
     "data": {
      "text/plain": [
       "(295617, 3)"
      ]
     },
     "execution_count": 2,
     "metadata": {},
     "output_type": "execute_result"
    }
   ],
   "source": [
    "data_path = '/pscratch/sd/a/azaidi/new-dt/nsys/spec_freq_df.pkl'\n",
    "df = pd.read_pickle(data_path)\n",
    "df = df.sort_values('length_key').reset_index(drop=True)\n",
    "df['num_unique'] = df.unique_species.map(len)\n",
    "df.shape"
   ]
  },
  {
   "cell_type": "code",
   "execution_count": 3,
   "id": "381ea445-444e-4ea9-8f2a-4eb69e3de6d5",
   "metadata": {},
   "outputs": [
    {
     "data": {
      "text/html": [
       "<div>\n",
       "<style scoped>\n",
       "    .dataframe tbody tr th:only-of-type {\n",
       "        vertical-align: middle;\n",
       "    }\n",
       "\n",
       "    .dataframe tbody tr th {\n",
       "        vertical-align: top;\n",
       "    }\n",
       "\n",
       "    .dataframe thead th {\n",
       "        text-align: right;\n",
       "    }\n",
       "</style>\n",
       "<table border=\"1\" class=\"dataframe\">\n",
       "  <thead>\n",
       "    <tr style=\"text-align: right;\">\n",
       "      <th></th>\n",
       "      <th>length_key</th>\n",
       "      <th>unique_species</th>\n",
       "      <th>num_unique</th>\n",
       "    </tr>\n",
       "  </thead>\n",
       "  <tbody>\n",
       "    <tr>\n",
       "      <th>0</th>\n",
       "      <td>20</td>\n",
       "      <td>[30420]</td>\n",
       "      <td>1</td>\n",
       "    </tr>\n",
       "    <tr>\n",
       "      <th>1</th>\n",
       "      <td>23</td>\n",
       "      <td>[29255]</td>\n",
       "      <td>1</td>\n",
       "    </tr>\n",
       "    <tr>\n",
       "      <th>2</th>\n",
       "      <td>25</td>\n",
       "      <td>[29255, 33254]</td>\n",
       "      <td>2</td>\n",
       "    </tr>\n",
       "    <tr>\n",
       "      <th>3</th>\n",
       "      <td>26</td>\n",
       "      <td>[30420]</td>\n",
       "      <td>1</td>\n",
       "    </tr>\n",
       "    <tr>\n",
       "      <th>4</th>\n",
       "      <td>27</td>\n",
       "      <td>[21836, 29255, 33254]</td>\n",
       "      <td>3</td>\n",
       "    </tr>\n",
       "  </tbody>\n",
       "</table>\n",
       "</div>"
      ],
      "text/plain": [
       "   length_key         unique_species  num_unique\n",
       "0          20                [30420]           1\n",
       "1          23                [29255]           1\n",
       "2          25         [29255, 33254]           2\n",
       "3          26                [30420]           1\n",
       "4          27  [21836, 29255, 33254]           3"
      ]
     },
     "execution_count": 3,
     "metadata": {},
     "output_type": "execute_result"
    }
   ],
   "source": [
    "df.head(5)"
   ]
  },
  {
   "cell_type": "code",
   "execution_count": 159,
   "id": "261de5f3",
   "metadata": {},
   "outputs": [
    {
     "data": {
      "text/plain": [
       "295617"
      ]
     },
     "execution_count": 159,
     "metadata": {},
     "output_type": "execute_result"
    }
   ],
   "source": [
    "len(df.unique_species)"
   ]
  },
  {
   "cell_type": "code",
   "execution_count": 4,
   "id": "9e43f2a3-631d-4309-90a8-f5ec6936a002",
   "metadata": {},
   "outputs": [
    {
     "data": {
      "text/plain": [
       "((8240475,), array([30420, 29255, 29255, 33254]))"
      ]
     },
     "execution_count": 4,
     "metadata": {},
     "output_type": "execute_result"
    }
   ],
   "source": [
    "spec_lbls_stacked = np.hstack(df.unique_species.values)\n",
    "spec_lbls_stacked.shape, spec_lbls_stacked[:4]"
   ]
  },
  {
   "cell_type": "code",
   "execution_count": 91,
   "id": "6ae5e405-4e45-43ca-9e22-ad039c9a08a9",
   "metadata": {},
   "outputs": [],
   "source": [
    "#plt.hist(df.length_key, bins=100);\n",
    "#plt.hist(np.log10(df.length_key), bins=100);\n",
    "#np.log10(df.length_key)[:10];"
   ]
  },
  {
   "cell_type": "code",
   "execution_count": 5,
   "id": "0cba3260-a9e5-4582-bf4f-0cfc3b73d06d",
   "metadata": {},
   "outputs": [
    {
     "data": {
      "text/plain": [
       "(100, array([1, 3, 2, 2]))"
      ]
     },
     "execution_count": 5,
     "metadata": {},
     "output_type": "execute_result"
    }
   ],
   "source": [
    "#this will bin our labels - since it's sorted we can easily extract indexes\n",
    "bin_sizes , _ = np.histogram(np.log10(df.length_key), bins=100)\n",
    "len(bin_sizes), bin_sizes[:4]"
   ]
  },
  {
   "cell_type": "code",
   "execution_count": 162,
   "id": "c3a7651a",
   "metadata": {},
   "outputs": [
    {
     "data": {
      "text/plain": [
       "array([ 1,  3,  2,  2,  2,  4,  4,  8,  7, 10])"
      ]
     },
     "execution_count": 162,
     "metadata": {},
     "output_type": "execute_result"
    }
   ],
   "source": [
    "bin_sizes[:10]"
   ]
  },
  {
   "cell_type": "markdown",
   "id": "eb71b03a",
   "metadata": {},
   "source": [
    "THIS IS WRONG! -- not needed for saturation calc, but come back around and fix"
   ]
  },
  {
   "cell_type": "code",
   "execution_count": 154,
   "id": "d90710fb-dd64-4314-a6ea-9ed8325dbcf3",
   "metadata": {},
   "outputs": [
    {
     "data": {
      "text/plain": [
       "([0, 1, 4], [295604, 295614, 295617], 101)"
      ]
     },
     "execution_count": 154,
     "metadata": {},
     "output_type": "execute_result"
    }
   ],
   "source": [
    "#this will get the start and stop index values for spec_lbls_stacked\n",
    "idx_holder = [0,]\n",
    "for count in bin_sizes:\n",
    "    holder_len = len(idx_holder)\n",
    "    #idx_holder.append(idx_holder[holder_len - 1] + count)\n",
    "    idx_holder.append(idx_holder[holder_len - 1] + count)\n",
    "idx_holder[:3], idx_holder[-3:], len(idx_holder)"
   ]
  },
  {
   "cell_type": "code",
   "execution_count": 210,
   "id": "9d00fb19",
   "metadata": {},
   "outputs": [],
   "source": [
    "#bin_sizes"
   ]
  },
  {
   "cell_type": "code",
   "execution_count": 153,
   "id": "9f875b23",
   "metadata": {},
   "outputs": [
    {
     "data": {
      "text/plain": [
       "[0, 1, 4, 6, 8, 10, 14, 18, 26, 33, 43, 55]"
      ]
     },
     "execution_count": 153,
     "metadata": {},
     "output_type": "execute_result"
    }
   ],
   "source": [
    "idx_holder[:12]"
   ]
  },
  {
   "cell_type": "code",
   "execution_count": 174,
   "id": "45c0e369-9f9b-4520-b180-c5b6c3219628",
   "metadata": {},
   "outputs": [],
   "source": [
    "def get_intersection_card(x,y):\n",
    "    return len(np.intersect1d(x,y))"
   ]
  },
  {
   "cell_type": "code",
   "execution_count": 175,
   "id": "cf216f0c-3599-4605-b60b-4b466079c907",
   "metadata": {},
   "outputs": [
    {
     "data": {
      "text/plain": [
       "(30420, array([29255, 29255, 33254]), 0)"
      ]
     },
     "execution_count": 175,
     "metadata": {},
     "output_type": "execute_result"
    }
   ],
   "source": [
    "one_bin = spec_lbls_stacked[idx_holder[0]]\n",
    "two_bin = spec_lbls_stacked[idx_holder[1]: idx_holder[2]]\n",
    "one_bin, two_bin, get_intersection_card(one_bin, two_bin)"
   ]
  },
  {
   "cell_type": "code",
   "execution_count": 7,
   "id": "d9578540-12dd-49b6-b255-f7b4e67ff2a0",
   "metadata": {},
   "outputs": [],
   "source": [
    "def get_binned_spec(idx_holder):\n",
    "    bins, prev_idx = [], 0\n",
    "    for idx in range(len(idx_holder[1:])):\n",
    "        bins.append(spec_lbls_stacked[idx_holder[prev_idx]: idx_holder[idx]])\n",
    "        prev_idx = idx\n",
    "    bins.append(spec_lbls_stacked[idx_holder[-2]: idx_holder[-1]])\n",
    "    return bins[1:]"
   ]
  },
  {
   "cell_type": "code",
   "execution_count": 176,
   "id": "6658d281-fd89-4a5c-a588-cd4ca4a70d2e",
   "metadata": {},
   "outputs": [],
   "source": [
    "#spec_lbls_stacked[idx_holder[-2]: idx_holder[-1]]"
   ]
  },
  {
   "cell_type": "code",
   "execution_count": 8,
   "id": "2077ae54-4988-4d73-b32a-5fe4043929d6",
   "metadata": {},
   "outputs": [
    {
     "data": {
      "text/plain": [
       "(100, True)"
      ]
     },
     "execution_count": 8,
     "metadata": {},
     "output_type": "execute_result"
    }
   ],
   "source": [
    "binned_species = get_binned_spec(idx_holder)\n",
    "bin_lens = np.asarray([len(x) for x in binned_species])\n",
    "len(binned_species), len(bin_lens) == len(bin_sizes)"
   ]
  },
  {
   "cell_type": "code",
   "execution_count": 165,
   "id": "132937ae",
   "metadata": {},
   "outputs": [
    {
     "data": {
      "text/plain": [
       "array([29255, 29255, 33254])"
      ]
     },
     "execution_count": 165,
     "metadata": {},
     "output_type": "execute_result"
    }
   ],
   "source": [
    "np.hstack(df.unique_species.iloc[1:3].values)"
   ]
  },
  {
   "cell_type": "code",
   "execution_count": null,
   "id": "76321e47",
   "metadata": {},
   "outputs": [],
   "source": []
  },
  {
   "cell_type": "code",
   "execution_count": null,
   "id": "5cc5fdd5",
   "metadata": {},
   "outputs": [],
   "source": []
  },
  {
   "cell_type": "markdown",
   "id": "e294af73",
   "metadata": {},
   "source": [
    "All we need for saturation calculation is the bin sizes...\n",
    "bin_sizes , _ = np.histogram(np.log10(df.length_key), bins=100)"
   ]
  },
  {
   "cell_type": "code",
   "execution_count": 209,
   "id": "00c8fd0e",
   "metadata": {},
   "outputs": [
    {
     "data": {
      "text/plain": [
       "array([1, 3, 2, 2, 2])"
      ]
     },
     "execution_count": 209,
     "metadata": {},
     "output_type": "execute_result"
    }
   ],
   "source": [
    "bin_sizes , _ = np.histogram(np.log10(df.length_key), bins=100)\n",
    "bin_sizes[:5]"
   ]
  },
  {
   "cell_type": "code",
   "execution_count": 193,
   "id": "9b671fcf",
   "metadata": {},
   "outputs": [],
   "source": [
    "def get_saturation_bin(num_species):\n",
    "    base_idx = 0\n",
    "    holder = []\n",
    "    for idx, bin_size in enumerate(bin_sizes):\n",
    "        next_idx = base_idx + bin_size\n",
    "        holder.append(np.hstack(df.unique_species.iloc[base_idx:next_idx].values))\n",
    "        base_idx = next_idx\n",
    "        if len(set(np.hstack(holder))) >= num_species : \n",
    "            return (idx); break"
   ]
  },
  {
   "cell_type": "code",
   "execution_count": 207,
   "id": "1ace6c23",
   "metadata": {},
   "outputs": [
    {
     "data": {
      "text/plain": [
       "65703"
      ]
     },
     "execution_count": 207,
     "metadata": {},
     "output_type": "execute_result"
    }
   ],
   "source": [
    "num_species = df.unique_species.map(max).max() + 1\n",
    "num_species"
   ]
  },
  {
   "cell_type": "code",
   "execution_count": 208,
   "id": "aa605805",
   "metadata": {},
   "outputs": [
    {
     "data": {
      "text/plain": [
       "99"
      ]
     },
     "execution_count": 208,
     "metadata": {},
     "output_type": "execute_result"
    }
   ],
   "source": [
    "get_saturation_bin(num_species)"
   ]
  },
  {
   "cell_type": "code",
   "execution_count": 191,
   "id": "ef013b2a",
   "metadata": {},
   "outputs": [
    {
     "data": {
      "text/plain": [
       "array([ 5000, 10000, 15000, 20000, 25000, 30000, 35000, 40000, 45000,\n",
       "       50000, 55000, 60000, 65000])"
      ]
     },
     "execution_count": 191,
     "metadata": {},
     "output_type": "execute_result"
    }
   ],
   "source": [
    "x_base_idxs = np.arange(5000, 66000, 5000)\n",
    "x_base_idxs"
   ]
  },
  {
   "cell_type": "code",
   "execution_count": 203,
   "id": "16365864",
   "metadata": {},
   "outputs": [],
   "source": [
    "num_bins_for_saturation = [get_saturation_bin(x) for x in x_base_idxs]"
   ]
  },
  {
   "cell_type": "code",
   "execution_count": 205,
   "id": "f23e6cf4",
   "metadata": {},
   "outputs": [
    {
     "data": {
      "image/png": "[encoded data removed]",
      "text/plain": [
       "<Figure size 640x480 with 1 Axes>"
      ]
     },
     "metadata": {},
     "output_type": "display_data"
    }
   ],
   "source": [
    "plt.plot(x_base_idxs, num_bins_for_saturation)\n",
    "plt.xlabel('num species')\n",
    "plt.ylabel('num bins to saturate');"
   ]
  },
  {
   "cell_type": "markdown",
   "id": "77067e25",
   "metadata": {},
   "source": [
    "# Come back and check work below :)"
   ]
  },
  {
   "cell_type": "code",
   "execution_count": 55,
   "id": "d9b48a9b-6caa-46e0-8956-661db80131ca",
   "metadata": {
    "tags": []
   },
   "outputs": [],
   "source": [
    "#bin_func = partial(np.histogram, minlength = 65703)\n",
    "#bin_matrix = np.stack(df.unique_species.map(bin_func).map(np.asarray))\n",
    "#bin_matrix.shape"
   ]
  },
  {
   "cell_type": "code",
   "execution_count": 66,
   "id": "e59aa3a8-99da-4f84-80c2-71eecc72f921",
   "metadata": {
    "tags": []
   },
   "outputs": [],
   "source": [
    "def get_union_card(x,y):\n",
    "    return len(set(x).union(set(y)))\n",
    "\n",
    "def get_jabccard_sim_score(x,y):\n",
    "    intersect_card = get_intersection_card(x,y)\n",
    "    union_card = get_union_card(x,y)\n",
    "    return intersect_card/union_card"
   ]
  },
  {
   "cell_type": "code",
   "execution_count": 177,
   "id": "8b4915ef-65c4-406d-a1a7-b05c9a6728c8",
   "metadata": {},
   "outputs": [],
   "source": [
    "card_holder = np.zeros((len(binned_species), len(binned_species)))\n",
    "card_holder.shape\n",
    "\n",
    "for x in range(len(binned_species)):\n",
    "    f = partial(get_intersection_card, binned_species[x])\n",
    "    for y in range(x+1, len(binned_species)):\n",
    "        card_val = f(binned_species[y])\n",
    "        card_holder[x, y] = card_val"
   ]
  },
  {
   "cell_type": "code",
   "execution_count": 179,
   "id": "e608d14c-1cb9-457b-aa6d-f7909eff3b9f",
   "metadata": {},
   "outputs": [
    {
     "data": {
      "text/plain": [
       "array([[0, 0, 1, ..., 0, 0, 0],\n",
       "       [0, 0, 0, ..., 0, 0, 0],\n",
       "       [0, 0, 0, ..., 0, 0, 0],\n",
       "       ...,\n",
       "       [0, 0, 0, ..., 0, 0, 0],\n",
       "       [0, 0, 0, ..., 0, 0, 0],\n",
       "       [0, 0, 0, ..., 0, 0, 0]])"
      ]
     },
     "execution_count": 179,
     "metadata": {},
     "output_type": "execute_result"
    }
   ],
   "source": [
    "np.set_printoptions(precision=1, linewidth=140)\n",
    "card_holder.astype(int)"
   ]
  },
  {
   "cell_type": "code",
   "execution_count": 190,
   "id": "a3feaaa5-e8c8-4faf-bd20-5ae81a0ad748",
   "metadata": {},
   "outputs": [
    {
     "data": {
      "text/plain": [
       "array([    0,     0,     1,     2,     4,     4,     1,     7,     9,     6,    17,    19,    29,    28,    13,    13,    27,    53,    85,\n",
       "          92,   128,   165,   179,   244,   268,   245,   270,   369,   450,   502,   555,   689,   748,   776,  1004,  1126,  1274,  1440,\n",
       "        1510,  1301,   649,  1046,  1374,  1835,  2273,  2938,  3494,  4219,  5070,  6006,  7307,  7972,  9488, 10642, 12676, 14255, 16283,\n",
       "       17405, 19964, 22670, 25447, 26680, 30005, 33431, 29989, 34117, 38234, 41765, 44535, 47192, 48894, 48959, 48357, 46775, 44045, 39953,\n",
       "       22156, 19604, 17979, 15294, 12265, 10382,  9029,  8439,  7966,  5913,  6827,  8113,  9278,  8511,  9450,  7105,  5430,  4305,  2830,\n",
       "        2252,  1213,   398,   174,    74])"
      ]
     },
     "execution_count": 190,
     "metadata": {},
     "output_type": "execute_result"
    }
   ],
   "source": [
    "#lets just check that there's some union between bins\n",
    "card_holder.astype(int).sum(0)"
   ]
  },
  {
   "cell_type": "code",
   "execution_count": 196,
   "id": "724c7b2b-c346-4057-a63b-20eb42c79f4b",
   "metadata": {},
   "outputs": [
    {
     "data": {
      "text/plain": [
       "(100, 100)"
      ]
     },
     "execution_count": 196,
     "metadata": {},
     "output_type": "execute_result"
    }
   ],
   "source": [
    "card_holder.shape"
   ]
  },
  {
   "cell_type": "code",
   "execution_count": 197,
   "id": "96e5d775-fdb6-403a-82e5-fcfaf34c2179",
   "metadata": {},
   "outputs": [
    {
     "name": "stdout",
     "output_type": "stream",
     "text": [
      "Object `card_holder.to_csv` not found.\n"
     ]
    }
   ],
   "source": []
  },
  {
   "cell_type": "code",
   "execution_count": 193,
   "id": "35ed867c-3383-4a39-a379-cf5ecfcc9ecf",
   "metadata": {},
   "outputs": [],
   "source": [
    "#plot the same\n",
    "#plt.hist(pd.DataFrame(card_holder).max(0));"
   ]
  },
  {
   "cell_type": "code",
   "execution_count": null,
   "id": "afeb7570-181a-48b9-ad4b-96279d0cfdcc",
   "metadata": {},
   "outputs": [],
   "source": []
  }
 ],
 "metadata": {
  "kernelspec": {
   "display_name": "dt-scratch",
   "language": "python",
   "name": "dt-scratch"
  },
  "language_info": {
   "codemirror_mode": {
    "name": "ipython",
    "version": 3
   },
   "file_extension": ".py",
   "mimetype": "text/x-python",
   "name": "python",
   "nbconvert_exporter": "python",
   "pygments_lexer": "ipython3",
   "version": "3.10.6"
  }
 },
 "nbformat": 4,
 "nbformat_minor": 5
}
