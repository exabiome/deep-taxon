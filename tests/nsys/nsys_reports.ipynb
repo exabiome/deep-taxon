{
 "cells": [
  {
   "cell_type": "code",
   "execution_count": 1,
   "metadata": {},
   "outputs": [],
   "source": [
    "import numpy as np\n",
    "import pandas as pd\n",
    "import io\n",
    "import glob\n",
    "import os"
   ]
  },
  {
   "cell_type": "code",
   "execution_count": 2,
   "metadata": {},
   "outputs": [],
   "source": [
    "def df_from_csv(my_csv):\n",
    "    return pd.read_csv(io.StringIO('\\n'.join(my_csv[2:-1])))"
   ]
  },
  {
   "cell_type": "code",
   "execution_count": 3,
   "metadata": {},
   "outputs": [],
   "source": [
    "def get_nsys_reports(parent_directory, trial_name, folder_destination='artifacts/'):\n",
    "    report_paths = glob.glob(parent_directory + '/*-rep')\n",
    "    time_holder, size_holder = [], []\n",
    "    for path in report_paths:\n",
    "        time_csv = !nsys stats --report=gpumemtimesum --format csv -q $path\n",
    "        size_csv = !nsys stats --report=gpumemsizesum --format csv -q $path\n",
    "        time_holder.append(df_from_csv(time_csv))\n",
    "        size_holder.append(df_from_csv(size_csv))\n",
    "    time_df = pd.concat(time_holder, axis=0, ignore_index=True)\n",
    "    size_df = pd.concat(size_holder, axis=0, ignore_index=True)\n",
    "    time_df.to_csv(folder_destination + trial_name +'-time.csv', index=False)\n",
    "    size_df.to_csv(folder_destination + trial_name +'-size.csv', index=False)\n",
    "    return time_df, size_df"
   ]
  },
  {
   "cell_type": "markdown",
   "metadata": {},
   "source": [
    "The function above will extract relevant information for gpu memory and time and save them into their own respective csv files. Useful for/with nsys plotting notebook.\n",
    "\n",
    "Below we'll put together some functions to extract information to ask the question: how much of our total training time is being used up by gpu compute?"
   ]
  },
  {
   "cell_type": "code",
   "execution_count": 4,
   "metadata": {},
   "outputs": [],
   "source": [
    "trial_names = ['r50', 'r50-256bs', 'r50-phylum', 'r50-pytorch', 'r50-1gpu', \n",
    "               'r50-accum-1gpu', 'r50-accum-4gpu', 'r50-tl', 'r101']"
   ]
  },
  {
   "cell_type": "code",
   "execution_count": 5,
   "metadata": {},
   "outputs": [
    {
     "data": {
      "text/plain": [
       "'nsys_report.nid001544.129059.nsys-rep'"
      ]
     },
     "execution_count": 5,
     "metadata": {},
     "output_type": "execute_result"
    }
   ],
   "source": [
    "folder_path = '/global/homes/a/azaidi/dt_cfs/azaidi/new_trials/speed_trials/train/datasets/nsys_new/chunks_W1024_S128/resnet50/C/test00/train.3443950'\n",
    "file_name = os.listdir(folder_path)[0]\n",
    "file_path = folder_path + f'/{file_name}' \n",
    "file_name"
   ]
  },
  {
   "cell_type": "code",
   "execution_count": 6,
   "metadata": {},
   "outputs": [
    {
     "data": {
      "text/plain": [
       "115.527566"
      ]
     },
     "execution_count": 6,
     "metadata": {},
     "output_type": "execute_result"
    }
   ],
   "source": [
    "#this is how we can get the amount of time for training\n",
    "log_file = folder_path + '.log'\n",
    "log_total_slist = !grep \"Total seconds:*\" {log_file}\n",
    "float(log_total_slist[0].split()[-1])"
   ]
  },
  {
   "cell_type": "code",
   "execution_count": 7,
   "metadata": {},
   "outputs": [],
   "source": [
    "def get_logged_time(folder_path):\n",
    "    log_file = folder_path + '.log'\n",
    "    log_total_slist = !grep \"Total seconds:*\" {log_file}\n",
    "    return float(log_total_slist[0].split()[-1])"
   ]
  },
  {
   "cell_type": "code",
   "execution_count": 8,
   "metadata": {},
   "outputs": [
    {
     "data": {
      "text/plain": [
       "115.527566"
      ]
     },
     "execution_count": 8,
     "metadata": {},
     "output_type": "execute_result"
    }
   ],
   "source": [
    "get_logged_time(folder_path)"
   ]
  },
  {
   "cell_type": "code",
   "execution_count": 9,
   "metadata": {},
   "outputs": [
    {
     "data": {
      "text/plain": [
       "59.748935084"
      ]
     },
     "execution_count": 9,
     "metadata": {},
     "output_type": "execute_result"
    }
   ],
   "source": [
    "#leads to unwieldy output without grep, couldn't figure out how to only pull int starting lines\n",
    "full_file = !nsys stats --report=gpukernsum --format csv -q $file_path\n",
    "#len(full_file)#full_file\n",
    "\n",
    "nccl = !nsys stats --report=gpukernsum --format csv -q $file_path | grep nccl\n",
    "#nccl #if want to see nccl activities\n",
    "\n",
    "#total time is second column - first col is % time\n",
    "#nccl[0].split(',')[1]\n",
    "\n",
    "#this should get the total number of seconds for nccl related activities\n",
    "np.array([x.split(',')[1] for x in nccl], dtype=float).sum() / 1e9"
   ]
  },
  {
   "cell_type": "code",
   "execution_count": 70,
   "metadata": {},
   "outputs": [],
   "source": [
    "def get_nccl_sum(file_path):\n",
    "    nccl_activities = !nsys stats --report=gpukernsum --format csv -q {file_path} | grep nccl\n",
    "    total = np.array([x.split(',')[1] for x in nccl_activities], dtype=float).sum() / 1e9\n",
    "    return total\n",
    "\n",
    "#hardcoded in 100 of the activities -- played around and not much higher afte \n",
    "def get_total_kern(file_path):\n",
    "    tot_activities = !nsys stats --report=gpukernsum --format csv -q {file_path}\n",
    "    tot_activities = tot_activities[3:100]\n",
    "    total = np.array([x.split(',')[1] for x in tot_activities], dtype=float).sum() / 1e9\n",
    "    return total"
   ]
  },
  {
   "cell_type": "code",
   "execution_count": 71,
   "metadata": {},
   "outputs": [],
   "source": [
    "def get_report_paths(parent_directory):\n",
    "    report_paths = glob.glob(parent_directory + '/*-rep')\n",
    "    return report_paths"
   ]
  },
  {
   "cell_type": "code",
   "execution_count": 72,
   "metadata": {},
   "outputs": [
    {
     "data": {
      "text/plain": [
       "(89.534422821, 59.748935084)"
      ]
     },
     "execution_count": 72,
     "metadata": {},
     "output_type": "execute_result"
    }
   ],
   "source": [
    "get_total_kern(file_path), get_nccl_sum(file_path)"
   ]
  },
  {
   "cell_type": "code",
   "execution_count": 73,
   "metadata": {},
   "outputs": [],
   "source": [
    "def get_kern_time(parent_dir):\n",
    "    report_paths = get_report_paths(parent_dir)\n",
    "    file_path = report_paths[0]\n",
    "    nccl_time = get_nccl_sum(file_path)\n",
    "    total_time = get_total_kern(file_path)\n",
    "    return total_time, nccl_time"
   ]
  },
  {
   "cell_type": "code",
   "execution_count": 74,
   "metadata": {},
   "outputs": [],
   "source": [
    "t_names = trial_names[:2]\n",
    "folder_one = '/global/homes/a/azaidi/dt_cfs/azaidi/new_trials/speed_trials/train/datasets/nsys_new/chunks_W1024_S128/resnet50/C/test00/train.3443950'\n",
    "folder_two = '/global/homes/a/azaidi/dt_cfs/azaidi/new_trials/speed_trials/train/datasets/nsys_new/chunks_W1024_S128/resnet50/C/test00/train.3444217'\n",
    "trial_tuple = tuple(zip(t_names, [folder_one, folder_two]))"
   ]
  },
  {
   "cell_type": "code",
   "execution_count": 75,
   "metadata": {},
   "outputs": [
    {
     "data": {
      "text/plain": [
       "(89.534422821, 59.748935084)"
      ]
     },
     "execution_count": 75,
     "metadata": {},
     "output_type": "execute_result"
    }
   ],
   "source": [
    "get_kern_time(folder_one)"
   ]
  },
  {
   "cell_type": "code",
   "execution_count": 76,
   "metadata": {},
   "outputs": [],
   "source": [
    "def get_kern_dfs(trial_tuple):\n",
    "    nccl_times, kern_times, trial_names, logged_times = [], [], [], []\n",
    "    for trial_name, folder_path in trial_tuple:\n",
    "        log_time = get_logged_time(folder_path)\n",
    "        kern_time, nccl_time = get_kern_time(folder_path)\n",
    "        trial_names.append(trial_name)\n",
    "        nccl_times.append(nccl_time)\n",
    "        kern_times.append(kern_time)\n",
    "        logged_times.append(log_time)\n",
    "    df = pd.DataFrame(zip(kern_times, nccl_times, logged_times), columns=['kern_time', 'nccl_time', 'logged_time'], index=trial_names)\n",
    "    return df"
   ]
  },
  {
   "cell_type": "code",
   "execution_count": 77,
   "metadata": {},
   "outputs": [
    {
     "data": {
      "text/html": [
       "<div>\n",
       "<style scoped>\n",
       "    .dataframe tbody tr th:only-of-type {\n",
       "        vertical-align: middle;\n",
       "    }\n",
       "\n",
       "    .dataframe tbody tr th {\n",
       "        vertical-align: top;\n",
       "    }\n",
       "\n",
       "    .dataframe thead th {\n",
       "        text-align: right;\n",
       "    }\n",
       "</style>\n",
       "<table border=\"1\" class=\"dataframe\">\n",
       "  <thead>\n",
       "    <tr style=\"text-align: right;\">\n",
       "      <th></th>\n",
       "      <th>kern_time</th>\n",
       "      <th>nccl_time</th>\n",
       "      <th>logged_time</th>\n",
       "    </tr>\n",
       "  </thead>\n",
       "  <tbody>\n",
       "    <tr>\n",
       "      <th>r50</th>\n",
       "      <td>89.534423</td>\n",
       "      <td>59.748935</td>\n",
       "      <td>115.527566</td>\n",
       "    </tr>\n",
       "    <tr>\n",
       "      <th>r50-256bs</th>\n",
       "      <td>108.656416</td>\n",
       "      <td>75.542611</td>\n",
       "      <td>157.893071</td>\n",
       "    </tr>\n",
       "  </tbody>\n",
       "</table>\n",
       "</div>"
      ],
      "text/plain": [
       "            kern_time  nccl_time  logged_time\n",
       "r50         89.534423  59.748935   115.527566\n",
       "r50-256bs  108.656416  75.542611   157.893071"
      ]
     },
     "execution_count": 77,
     "metadata": {},
     "output_type": "execute_result"
    }
   ],
   "source": [
    "get_kern_dfs(trial_tuple)"
   ]
  },
  {
   "cell_type": "code",
   "execution_count": 78,
   "metadata": {},
   "outputs": [],
   "source": [
    "trial_names = ['r50', 'r50-256bs', 'r50-phylum', 'r50-pytorch',\n",
    "               #'r50-1gpu', 'r50-accum-1gpu',  #issue w/single gpu jobs\n",
    "               'r50-accum-4gpu', 'r50-tl', 'r101']"
   ]
  },
  {
   "cell_type": "code",
   "execution_count": 79,
   "metadata": {},
   "outputs": [],
   "source": [
    "paths=  ['/global/homes/a/azaidi/dt_cfs/azaidi/new_trials/speed_trials/train/datasets/nsys_new/chunks_W1024_S128/resnet50/C/test00/train.3443950',\n",
    "        '/global/homes/a/azaidi/dt_cfs/azaidi/new_trials/speed_trials/train/datasets/nsys_new/chunks_W1024_S128/resnet50/C/test00/train.3444217',\n",
    "        '/global/homes/a/azaidi/dt_cfs/azaidi/new_trials/speed_trials/train/datasets/nsys_new/chunks_W1024_S128/resnet50/C/test00/train.3443958',\n",
    "        '/global/homes/a/azaidi/dt_cfs/azaidi/new_trials/speed_trials/train/datasets/nsys_new/chunks_W1024_S128/resnet50/C/test00/train.3443968',\n",
    "        #'/global/homes/a/azaidi/dt_cfs/azaidi/new_trials/speed_trials/train/datasets/nsys_new/chunks_W1024_S128/resnet50/C/test00/train.3444142',\n",
    "        #'/global/homes/a/azaidi/dt_cfs/azaidi/new_trials/speed_trials/train/datasets/nsys_new/chunks_W1024_S128/resnet50/C/test00/train.3444149',\n",
    "        '/global/homes/a/azaidi/dt_cfs/azaidi/new_trials/speed_trials/train/datasets/nsys_new/chunks_W1024_S128/resnet50/C/test00/train.3444641',\n",
    "        '/global/homes/a/azaidi/dt_cfs/azaidi/new_trials/speed_trials/train/datasets/nsys_new/chunks_W1024_S128/resnet50/C/test00/train.3444386',\n",
    "        '/global/homes/a/azaidi/dt_cfs/azaidi/new_trials/speed_trials/train/datasets/nsys_new/chunks_W1024_S128/resnet101/C/test00/train.3444019']"
   ]
  },
  {
   "cell_type": "code",
   "execution_count": 80,
   "metadata": {},
   "outputs": [],
   "source": [
    "trial_tup = tuple(zip(trial_names, paths))"
   ]
  },
  {
   "cell_type": "code",
   "execution_count": 91,
   "metadata": {},
   "outputs": [],
   "source": [
    "trial_desc = [\n",
    "    'res50 + 512bs + species class + deep-taxon dataloader',\n",
    "    'res50 + 256bs + species class + deep-taxon dataloader',\n",
    "    'res50 + 512bs + phylum class + deep-taxon dataloader',\n",
    "    'res50 + 512bs + species class + dt dl + pytorch training loop',\n",
    "    'res50 + 512bs + 4epoch grad accum + species class + dt dl',\n",
    "    'res50 + 512bs + species class + theoretical limit dataloader',\n",
    "    'res101 + 512bs + species classification, deep-taxon dataloader'\n",
    "]"
   ]
  },
  {
   "cell_type": "code",
   "execution_count": 93,
   "metadata": {},
   "outputs": [
    {
     "data": {
      "text/html": [
       "<div>\n",
       "<style scoped>\n",
       "    .dataframe tbody tr th:only-of-type {\n",
       "        vertical-align: middle;\n",
       "    }\n",
       "\n",
       "    .dataframe tbody tr th {\n",
       "        vertical-align: top;\n",
       "    }\n",
       "\n",
       "    .dataframe thead th {\n",
       "        text-align: right;\n",
       "    }\n",
       "</style>\n",
       "<table border=\"1\" class=\"dataframe\">\n",
       "  <thead>\n",
       "    <tr style=\"text-align: right;\">\n",
       "      <th></th>\n",
       "      <th>kern_time</th>\n",
       "      <th>nccl_time</th>\n",
       "      <th>logged_time</th>\n",
       "    </tr>\n",
       "  </thead>\n",
       "  <tbody>\n",
       "    <tr>\n",
       "      <th>r50</th>\n",
       "      <td>89.534423</td>\n",
       "      <td>59.748935</td>\n",
       "      <td>115.527566</td>\n",
       "    </tr>\n",
       "    <tr>\n",
       "      <th>r50-256bs</th>\n",
       "      <td>108.656416</td>\n",
       "      <td>75.542611</td>\n",
       "      <td>157.893071</td>\n",
       "    </tr>\n",
       "    <tr>\n",
       "      <th>r50-phylum</th>\n",
       "      <td>86.737554</td>\n",
       "      <td>60.404087</td>\n",
       "      <td>114.824708</td>\n",
       "    </tr>\n",
       "    <tr>\n",
       "      <th>r50-pytorch</th>\n",
       "      <td>118.635044</td>\n",
       "      <td>86.476833</td>\n",
       "      <td>138.846552</td>\n",
       "    </tr>\n",
       "    <tr>\n",
       "      <th>r50-accum-4gpu</th>\n",
       "      <td>27.056760</td>\n",
       "      <td>0.589333</td>\n",
       "      <td>107.724616</td>\n",
       "    </tr>\n",
       "    <tr>\n",
       "      <th>r50-tl</th>\n",
       "      <td>263.834143</td>\n",
       "      <td>12.202738</td>\n",
       "      <td>353.708149</td>\n",
       "    </tr>\n",
       "    <tr>\n",
       "      <th>r101</th>\n",
       "      <td>43.845701</td>\n",
       "      <td>2.164545</td>\n",
       "      <td>137.305719</td>\n",
       "    </tr>\n",
       "  </tbody>\n",
       "</table>\n",
       "</div>"
      ],
      "text/plain": [
       "                 kern_time  nccl_time  logged_time\n",
       "r50              89.534423  59.748935   115.527566\n",
       "r50-256bs       108.656416  75.542611   157.893071\n",
       "r50-phylum       86.737554  60.404087   114.824708\n",
       "r50-pytorch     118.635044  86.476833   138.846552\n",
       "r50-accum-4gpu   27.056760   0.589333   107.724616\n",
       "r50-tl          263.834143  12.202738   353.708149\n",
       "r101             43.845701   2.164545   137.305719"
      ]
     },
     "execution_count": 93,
     "metadata": {},
     "output_type": "execute_result"
    }
   ],
   "source": [
    "df = get_kern_dfs(trial_tup)\n",
    "df"
   ]
  },
  {
   "cell_type": "code",
   "execution_count": 104,
   "metadata": {},
   "outputs": [
    {
     "data": {
      "text/plain": [
       "'/global/homes/a/azaidi/dt_cfs/azaidi/new_trials/speed_trials/train/datasets/nsys_new/chunks_W1024_S128/resnet50/C/test00/train.3444386'"
      ]
     },
     "execution_count": 104,
     "metadata": {},
     "output_type": "execute_result"
    }
   ],
   "source": [
    "paths[-2]"
   ]
  },
  {
   "cell_type": "code",
   "execution_count": 119,
   "metadata": {},
   "outputs": [
    {
     "name": "stdout",
     "output_type": "stream",
     "text": [
      "Epoch 0:  79%|███████▊  | 150/191 [01:26<00:23,  1.74it/s, loss=0.23, v_num=0Took 00:01:55.5275660]\n",
      "Epoch 0: 100%|██████████| 191/191 [01:52<00:00,  1.69it/s, loss=0.216, v_num=0, training_acc=0.795]\n"
     ]
    }
   ],
   "source": [
    "!grep \"Epoch 0:*\" {paths[0] +'.log'}"
   ]
  },
  {
   "cell_type": "code",
   "execution_count": 122,
   "metadata": {},
   "outputs": [
    {
     "name": "stdout",
     "output_type": "stream",
     "text": [
      "Binary file /global/homes/a/azaidi/dt_cfs/azaidi/new_trials/speed_trials/train/datasets/nsys_new/chunks_W1024_S128/resnet50/C/test00/train.3444217.log matches\n"
     ]
    }
   ],
   "source": [
    "!grep \"Epoch 0:*\" {paths[1] +'.log'}"
   ]
  },
  {
   "cell_type": "code",
   "execution_count": 121,
   "metadata": {},
   "outputs": [
    {
     "name": "stdout",
     "output_type": "stream",
     "text": [
      "Epoch 0:  79%|███████▊  | 150/191 [01:25<00:23,  1.75it/s, loss=0.123, v_num=Took 00:01:54.8247086]\n",
      "Epoch 0: 100%|██████████| 191/191 [01:52<00:00,  1.70it/s, loss=0.154, v_num=0, training_acc=0.913]\n"
     ]
    }
   ],
   "source": [
    "!grep \"Epoch 0:*\" {paths[2] +'.log'}"
   ]
  },
  {
   "cell_type": "code",
   "execution_count": 123,
   "metadata": {},
   "outputs": [
    {
     "name": "stdout",
     "output_type": "stream",
     "text": [
      "[GPU0] Epoch 0 | Batchsize: 512 | Steps: 191\n",
      "Epoch 0: 100%|██████████| 191/191 [01:49<00:00,  1.74it/s, loss=0.11187758]\n",
      "Epoch 0 | Training snapshot saved at speed_trials/train/datasets/nsys_new/chunks_W1024_S128/resnet50/C/test00/train.3443968/last.ckpt\n",
      "[GPU3] Epoch 0 | Batchsize: 512 | Steps: 191\n",
      "[GPU1] Epoch 0 | Batchsize: 512 | Steps: 191\n",
      "[GPU2] Epoch 0 | Batchsize: 512 | Steps: 191\n"
     ]
    }
   ],
   "source": [
    "!grep \"Epoch 0:*\" {paths[3] +'.log'}"
   ]
  },
  {
   "cell_type": "code",
   "execution_count": 124,
   "metadata": {},
   "outputs": [
    {
     "name": "stdout",
     "output_type": "stream",
     "text": [
      "Epoch 0:  79%|███████▊  | 150/191 [01:20<00:21,  1.87it/s, loss=0.303, v_num=0, traTook 00:01:47.724616\n",
      "Epoch 0: 100%|██████████| 191/191 [01:45<00:00,  1.82it/s, loss=0.405, v_num=0, training_acc=0.300]\n"
     ]
    }
   ],
   "source": [
    "!grep \"Epoch 0:*\" {paths[4] +'.log'}"
   ]
  },
  {
   "cell_type": "code",
   "execution_count": 126,
   "metadata": {},
   "outputs": [
    {
     "name": "stdout",
     "output_type": "stream",
     "text": [
      "Epoch 0:  79%|███████▊  | 150/191 [01:41<00:27,  1.48it/s, loss=0.154, v_num=0, traTook 00:02:17.305719\n",
      "Epoch 0: 100%|██████████| 191/191 [02:13<00:00,  1.43it/s, loss=0.113, v_num=0, training_acc=0.982]\n"
     ]
    }
   ],
   "source": [
    "!grep \"Epoch 0:*\" {paths[6] +'.log'}"
   ]
  },
  {
   "cell_type": "code",
   "execution_count": 127,
   "metadata": {},
   "outputs": [
    {
     "name": "stdout",
     "output_type": "stream",
     "text": [
      "Epoch 0:  79%|███████▊  | 150/191 [01:41<00:27,  1.48it/s, loss=0.154, v_num=0, traTook 00:02:17.305719\n",
      "Epoch 0: 100%|██████████| 191/191 [02:13<00:00,  1.43it/s, loss=0.113, v_num=0, training_acc=0.982]\n"
     ]
    }
   ],
   "source": [
    "#r101 took 2min 13 seconds as shown above, but why is kernel and nccl so low?\n",
    "!grep \"Epoch 0:*\" {paths[-1] +'.log'}"
   ]
  },
  {
   "cell_type": "code",
   "execution_count": 116,
   "metadata": {},
   "outputs": [
    {
     "name": "stdout",
     "output_type": "stream",
     "text": [
      "Epoch 0:  79%|███████▊  | 150/191 [01:26<00:23,  1.74it/s, loss=0.23, v_num=0Took 00:01:55.5275660]\n",
      "Epoch 0: 100%|██████████| 191/191 [01:52<00:00,  1.69it/s, loss=0.216, v_num=0, training_acc=0.795]\n"
     ]
    }
   ],
   "source": [
    "!grep \"Epoch 0:*\" {paths[0] +'.log'}"
   ]
  },
  {
   "cell_type": "code",
   "execution_count": 114,
   "metadata": {},
   "outputs": [
    {
     "name": "stdout",
     "output_type": "stream",
     "text": [
      "Epoch 0: 100%|██████████| 2637/2637 [05:51<00:00,  7.51it/s, lgot into setup! training_acc=1.000]\n"
     ]
    }
   ],
   "source": [
    "!grep \"Epoch 0:*\" {paths[-2] +'.log'}"
   ]
  },
  {
   "cell_type": "code",
   "execution_count": 115,
   "metadata": {},
   "outputs": [
    {
     "data": {
      "text/plain": [
       "4.316091954022989"
      ]
     },
     "execution_count": 115,
     "metadata": {},
     "output_type": "execute_result"
    }
   ],
   "source": [
    "7.51/1.74"
   ]
  },
  {
   "cell_type": "code",
   "execution_count": null,
   "metadata": {},
   "outputs": [],
   "source": [
    "import matplotlib.pyplot as plt"
   ]
  },
  {
   "cell_type": "code",
   "execution_count": 85,
   "metadata": {},
   "outputs": [
    {
     "data": {
      "image/png": "[encoded data removed]",
      "text/plain": [
       "<Figure size 432x288 with 1 Axes>"
      ]
     },
     "metadata": {
      "needs_background": "light"
     },
     "output_type": "display_data"
    }
   ],
   "source": [
    "plt.title('total train time vs kernle & gpu time')\n",
    "plt.xlabel('run_type')\n",
    "plt.ylabel('Seconds')\n",
    "plt.plot(df)\n",
    "plt.legend(df.columns)\n",
    "plt.xticks(rotation=90);"
   ]
  },
  {
   "cell_type": "code",
   "execution_count": 94,
   "metadata": {},
   "outputs": [],
   "source": [
    "trial_desc = [\n",
    "    'res50 + 512bs + species class + deep-taxon dataloader',\n",
    "    'res50 + 256bs + species class + deep-taxon dataloader',\n",
    "    'res50 + 512bs + phylum class + deep-taxon dataloader',\n",
    "    'res50 + 512bs + species class + dt dl + pytorch training loop',\n",
    "    'res50 + 512bs + 4epoch grad accum + species class + dt dl',\n",
    "    'res50 + 512bs + species class + theoretical limit dataloader',\n",
    "    'res101 + 512bs + species classification, deep-taxon dataloader'\n",
    "]"
   ]
  },
  {
   "cell_type": "code",
   "execution_count": 96,
   "metadata": {},
   "outputs": [],
   "source": [
    "df['description'] = trial_desc\n",
    "df.to_csv('train_vs_gpu_time.csv', index=False)"
   ]
  },
  {
   "cell_type": "code",
   "execution_count": 97,
   "metadata": {},
   "outputs": [
    {
     "data": {
      "text/html": [
       "<div>\n",
       "<style scoped>\n",
       "    .dataframe tbody tr th:only-of-type {\n",
       "        vertical-align: middle;\n",
       "    }\n",
       "\n",
       "    .dataframe tbody tr th {\n",
       "        vertical-align: top;\n",
       "    }\n",
       "\n",
       "    .dataframe thead th {\n",
       "        text-align: right;\n",
       "    }\n",
       "</style>\n",
       "<table border=\"1\" class=\"dataframe\">\n",
       "  <thead>\n",
       "    <tr style=\"text-align: right;\">\n",
       "      <th></th>\n",
       "      <th>kern_time</th>\n",
       "      <th>nccl_time</th>\n",
       "      <th>logged_time</th>\n",
       "      <th>description</th>\n",
       "    </tr>\n",
       "  </thead>\n",
       "  <tbody>\n",
       "    <tr>\n",
       "      <th>r50</th>\n",
       "      <td>89.534423</td>\n",
       "      <td>59.748935</td>\n",
       "      <td>115.527566</td>\n",
       "      <td>res50 + 512bs + species class + deep-taxon dat...</td>\n",
       "    </tr>\n",
       "    <tr>\n",
       "      <th>r50-256bs</th>\n",
       "      <td>108.656416</td>\n",
       "      <td>75.542611</td>\n",
       "      <td>157.893071</td>\n",
       "      <td>res50 + 256bs + species class + deep-taxon dat...</td>\n",
       "    </tr>\n",
       "    <tr>\n",
       "      <th>r50-phylum</th>\n",
       "      <td>86.737554</td>\n",
       "      <td>60.404087</td>\n",
       "      <td>114.824708</td>\n",
       "      <td>res50 + 512bs + phylum class + deep-taxon data...</td>\n",
       "    </tr>\n",
       "    <tr>\n",
       "      <th>r50-pytorch</th>\n",
       "      <td>118.635044</td>\n",
       "      <td>86.476833</td>\n",
       "      <td>138.846552</td>\n",
       "      <td>res50 + 512bs + species class + dt dl + pytorc...</td>\n",
       "    </tr>\n",
       "    <tr>\n",
       "      <th>r50-accum-4gpu</th>\n",
       "      <td>27.056760</td>\n",
       "      <td>0.589333</td>\n",
       "      <td>107.724616</td>\n",
       "      <td>res50 + 512bs + 4epoch grad accum + species cl...</td>\n",
       "    </tr>\n",
       "    <tr>\n",
       "      <th>r50-tl</th>\n",
       "      <td>263.834143</td>\n",
       "      <td>12.202738</td>\n",
       "      <td>353.708149</td>\n",
       "      <td>res50 + 512bs + species class + theoretical li...</td>\n",
       "    </tr>\n",
       "    <tr>\n",
       "      <th>r101</th>\n",
       "      <td>43.845701</td>\n",
       "      <td>2.164545</td>\n",
       "      <td>137.305719</td>\n",
       "      <td>res101 + 512bs + species classification, deep-...</td>\n",
       "    </tr>\n",
       "  </tbody>\n",
       "</table>\n",
       "</div>"
      ],
      "text/plain": [
       "                 kern_time  nccl_time  logged_time  \\\n",
       "r50              89.534423  59.748935   115.527566   \n",
       "r50-256bs       108.656416  75.542611   157.893071   \n",
       "r50-phylum       86.737554  60.404087   114.824708   \n",
       "r50-pytorch     118.635044  86.476833   138.846552   \n",
       "r50-accum-4gpu   27.056760   0.589333   107.724616   \n",
       "r50-tl          263.834143  12.202738   353.708149   \n",
       "r101             43.845701   2.164545   137.305719   \n",
       "\n",
       "                                                      description  \n",
       "r50             res50 + 512bs + species class + deep-taxon dat...  \n",
       "r50-256bs       res50 + 256bs + species class + deep-taxon dat...  \n",
       "r50-phylum      res50 + 512bs + phylum class + deep-taxon data...  \n",
       "r50-pytorch     res50 + 512bs + species class + dt dl + pytorc...  \n",
       "r50-accum-4gpu  res50 + 512bs + 4epoch grad accum + species cl...  \n",
       "r50-tl          res50 + 512bs + species class + theoretical li...  \n",
       "r101            res101 + 512bs + species classification, deep-...  "
      ]
     },
     "execution_count": 97,
     "metadata": {},
     "output_type": "execute_result"
    }
   ],
   "source": [
    "df"
   ]
  },
  {
   "cell_type": "code",
   "execution_count": null,
   "metadata": {},
   "outputs": [],
   "source": []
  }
 ],
 "metadata": {
  "kernelspec": {
   "display_name": "NERSC Python",
   "language": "python",
   "name": "python3"
  },
  "language_info": {
   "codemirror_mode": {
    "name": "ipython",
    "version": 3
   },
   "file_extension": ".py",
   "mimetype": "text/x-python",
   "name": "python",
   "nbconvert_exporter": "python",
   "pygments_lexer": "ipython3",
   "version": "3.9.7"
  },
  "vscode": {
   "interpreter": {
    "hash": "31f2aee4e71d21fbe5cf8b01ff0e069b9275f58929596ceb00d14d90e3e16cd6"
   }
  }
 },
 "nbformat": 4,
 "nbformat_minor": 4
}
