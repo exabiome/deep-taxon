{
 "cells": [
  {
   "cell_type": "code",
   "execution_count": 5,
   "metadata": {},
   "outputs": [],
   "source": [
    "import matplotlib.pyplot as plt\n",
    "import numpy as np\n",
    "import pandas as pd\n",
    "import io\n",
    "import glob\n",
    "import os"
   ]
  },
  {
   "cell_type": "code",
   "execution_count": 6,
   "metadata": {},
   "outputs": [],
   "source": [
    "trial_names = [\n",
    "                'r50',\n",
    "                'r50-256bs', \n",
    "                'r50-phylum',\n",
    "                'r50-pytorch',\n",
    "                'r50-1gpu', \n",
    "                'r50-accum-4gpu', \n",
    "                'r50-tl', \n",
    "                'r101']\n",
    "\n",
    "\n",
    "paths=  [\n",
    "            '/pscratch/sd/a/azaidi/new-dt/new-trials/testing/train/datasets/testing/chunks_W1024_S128/resnet50/C/test02/train.3566570',\n",
    "            '/pscratch/sd/a/azaidi/new-dt/new-trials/testing/train/datasets/testing/chunks_W1024_S128/resnet50/C/test02/train.3566571',\n",
    "            '/pscratch/sd/a/azaidi/new-dt/new-trials/testing/train/datasets/testing/chunks_W1024_S128/resnet50/C/test02/train.3566572',\n",
    "            '/pscratch/sd/a/azaidi/new-dt/new-trials/testing/train/datasets/testing/chunks_W1024_S128/resnet50/C/test02/train.3566573',\n",
    "            '/pscratch/sd/a/azaidi/new-dt/new-trials/testing/train/datasets/testing/chunks_W1024_S128/resnet50/C/test02/train.3566574',\n",
    "            '/pscratch/sd/a/azaidi/new-dt/new-trials/testing/train/datasets/testing/chunks_W1024_S128/resnet50/C/test02/train.3566575',\n",
    "            '/pscratch/sd/a/azaidi/new-dt/new-trials/testing/train/datasets/testing/chunks_W1024_S128/resnet50/C/test02/train.3566576',\n",
    "            '/pscratch/sd/a/azaidi/new-dt/new-trials/testing/train/datasets/testing/chunks_W1024_S128/resnet101/C/test02/train.3566578']\n",
    "\n",
    "\n",
    "trial_desc = [\n",
    "    'res50 + 512bs + species class + deep-taxon dataloader',\n",
    "    'res50 + 256bs + species class + deep-taxon dataloader',\n",
    "    'res50 + 512bs + phylum class + deep-taxon dataloader',\n",
    "    'res50 + 512bs + species class + dt dl + pytorch training loop',\n",
    "    'res50 + 512bs + species class + dt dl + 1gpu',\n",
    "    'res50 + 512bs + 4epoch grad accum + species class + dt dl',\n",
    "    'res50 + 512bs + species class + theoretical limit dataloader',\n",
    "    'res101 + 512bs + species classification, deep-taxon dataloader'\n",
    "]\n",
    "\n",
    "trial_tup = tuple(zip(trial_names, paths))"
   ]
  },
  {
   "cell_type": "code",
   "execution_count": 7,
   "metadata": {},
   "outputs": [],
   "source": [
    "def df_from_csv(my_csv):\n",
    "    return pd.read_csv(io.StringIO('\\n'.join(my_csv[2:-1])))\n",
    "\n",
    "def get_report_paths(parent_directory):\n",
    "    report_paths = glob.glob(parent_directory + '/*-rep')\n",
    "    return report_paths"
   ]
  },
  {
   "cell_type": "markdown",
   "metadata": {},
   "source": [
    "Below we'll put together some functions to extract information to ask the question: how much of our total training time is being used up by gpu compute?"
   ]
  },
  {
   "cell_type": "code",
   "execution_count": 10,
   "metadata": {},
   "outputs": [],
   "source": [
    "folder_path = paths[0]\n",
    "file_path = get_report_paths(folder_path)[0]"
   ]
  },
  {
   "cell_type": "code",
   "execution_count": 11,
   "metadata": {},
   "outputs": [
    {
     "data": {
      "text/plain": [
       "549.239921"
      ]
     },
     "execution_count": 11,
     "metadata": {},
     "output_type": "execute_result"
    }
   ],
   "source": [
    "def get_logged_time(folder_path):\n",
    "    log_file = folder_path + '.log'\n",
    "    log_total_slist = !grep \"Total seconds:*\" {log_file}\n",
    "    return float(log_total_slist[0].split()[-1])\n",
    "\n",
    "get_logged_time(folder_path)"
   ]
  },
  {
   "cell_type": "code",
   "execution_count": 12,
   "metadata": {},
   "outputs": [
    {
     "data": {
      "text/plain": [
       "6.759747951"
      ]
     },
     "execution_count": 12,
     "metadata": {},
     "output_type": "execute_result"
    }
   ],
   "source": [
    "#leads to unwieldy output without grep, couldn't figure out how to only pull int starting lines\n",
    "full_file = !nsys stats --report=gpukernsum --format csv -q $file_path\n",
    "#len(full_file)#full_file\n",
    "\n",
    "nccl = !nsys stats --report=gpukernsum --format csv -q $file_path | grep nccl\n",
    "#nccl #if want to see nccl activities\n",
    "\n",
    "#total time is second column - first col is % time\n",
    "#nccl[0].split(',')[1]\n",
    "\n",
    "#this should get the total number of seconds for nccl related activities\n",
    "np.array([x.split(',')[1] for x in nccl], dtype=float).sum() / 1e9"
   ]
  },
  {
   "cell_type": "code",
   "execution_count": 13,
   "metadata": {},
   "outputs": [],
   "source": [
    "def get_nccl_sum(file_path):\n",
    "    nccl_activities = !nsys stats --report=gpukernsum --format csv -q {file_path} | grep nccl\n",
    "    total = np.array([x.split(',')[1] for x in nccl_activities], dtype=float).sum() / 1e9\n",
    "    return total\n",
    "\n",
    "#hardcoded in 100 of the activities -- played around and not much higher afte \n",
    "def get_total_kern(file_path):\n",
    "    tot_activities = !nsys stats --report=gpukernsum --format csv -q {file_path}\n",
    "    tot_activities = tot_activities[3:50]\n",
    "    total = np.array([x.split(',')[1] for x in tot_activities], dtype=float).sum() / 1e9\n",
    "    return total\n",
    "\n"
   ]
  },
  {
   "cell_type": "code",
   "execution_count": 14,
   "metadata": {},
   "outputs": [
    {
     "data": {
      "text/plain": [
       "(105.733322915, 6.759747951)"
      ]
     },
     "execution_count": 14,
     "metadata": {},
     "output_type": "execute_result"
    }
   ],
   "source": [
    "get_total_kern(file_path), get_nccl_sum(file_path)"
   ]
  },
  {
   "cell_type": "code",
   "execution_count": 15,
   "metadata": {},
   "outputs": [],
   "source": [
    "def get_kern_time(parent_dir):\n",
    "    report_paths = get_report_paths(parent_dir)\n",
    "    file_path = report_paths[0]\n",
    "    nccl_time = get_nccl_sum(file_path)\n",
    "    total_time = get_total_kern(file_path)\n",
    "    return total_time, nccl_time"
   ]
  },
  {
   "cell_type": "code",
   "execution_count": 16,
   "metadata": {},
   "outputs": [
    {
     "data": {
      "text/plain": [
       "(105.733322915, 6.759747951)"
      ]
     },
     "execution_count": 16,
     "metadata": {},
     "output_type": "execute_result"
    }
   ],
   "source": [
    "get_kern_time(paths[0])"
   ]
  },
  {
   "cell_type": "code",
   "execution_count": 17,
   "metadata": {},
   "outputs": [],
   "source": [
    "def get_kern_dfs(trial_tuple):\n",
    "    nccl_times, kern_times, trial_names, logged_times = [], [], [], []\n",
    "    for trial_name, folder_path in trial_tuple:\n",
    "        log_time = get_logged_time(folder_path)\n",
    "        kern_time, nccl_time = get_kern_time(folder_path)\n",
    "        trial_names.append(trial_name)\n",
    "        nccl_times.append(nccl_time)\n",
    "        kern_times.append(kern_time)\n",
    "        logged_times.append(log_time)\n",
    "    df = pd.DataFrame(zip(kern_times, nccl_times, logged_times), columns=['kern_time', 'nccl_time', 'logged_time'], index=trial_names)\n",
    "    return df"
   ]
  },
  {
   "cell_type": "code",
   "execution_count": 18,
   "metadata": {},
   "outputs": [],
   "source": [
    "#get_kern_dfs(trial_tuple[:2])"
   ]
  },
  {
   "cell_type": "code",
   "execution_count": 19,
   "metadata": {},
   "outputs": [
    {
     "data": {
      "text/html": [
       "<div>\n",
       "<style scoped>\n",
       "    .dataframe tbody tr th:only-of-type {\n",
       "        vertical-align: middle;\n",
       "    }\n",
       "\n",
       "    .dataframe tbody tr th {\n",
       "        vertical-align: top;\n",
       "    }\n",
       "\n",
       "    .dataframe thead th {\n",
       "        text-align: right;\n",
       "    }\n",
       "</style>\n",
       "<table border=\"1\" class=\"dataframe\">\n",
       "  <thead>\n",
       "    <tr style=\"text-align: right;\">\n",
       "      <th></th>\n",
       "      <th>kern_time</th>\n",
       "      <th>nccl_time</th>\n",
       "      <th>logged_time</th>\n",
       "    </tr>\n",
       "  </thead>\n",
       "  <tbody>\n",
       "    <tr>\n",
       "      <th>r50</th>\n",
       "      <td>105.733323</td>\n",
       "      <td>6.759748</td>\n",
       "      <td>549.239921</td>\n",
       "    </tr>\n",
       "    <tr>\n",
       "      <th>r50-256bs</th>\n",
       "      <td>562.206567</td>\n",
       "      <td>447.623558</td>\n",
       "      <td>694.814695</td>\n",
       "    </tr>\n",
       "    <tr>\n",
       "      <th>r50-phylum</th>\n",
       "      <td>412.944029</td>\n",
       "      <td>334.025393</td>\n",
       "      <td>535.758853</td>\n",
       "    </tr>\n",
       "    <tr>\n",
       "      <th>r50-pytorch</th>\n",
       "      <td>162.171962</td>\n",
       "      <td>5.562496</td>\n",
       "      <td>679.788115</td>\n",
       "    </tr>\n",
       "    <tr>\n",
       "      <th>r50-1gpu</th>\n",
       "      <td>380.433915</td>\n",
       "      <td>0.000000</td>\n",
       "      <td>1114.814917</td>\n",
       "    </tr>\n",
       "    <tr>\n",
       "      <th>r50-accum-4gpu</th>\n",
       "      <td>422.715904</td>\n",
       "      <td>338.533442</td>\n",
       "      <td>520.698596</td>\n",
       "    </tr>\n",
       "    <tr>\n",
       "      <th>r50-tl</th>\n",
       "      <td>85.088445</td>\n",
       "      <td>3.880080</td>\n",
       "      <td>130.282719</td>\n",
       "    </tr>\n",
       "    <tr>\n",
       "      <th>r101</th>\n",
       "      <td>496.882544</td>\n",
       "      <td>329.549190</td>\n",
       "      <td>630.082665</td>\n",
       "    </tr>\n",
       "  </tbody>\n",
       "</table>\n",
       "</div>"
      ],
      "text/plain": [
       "                 kern_time   nccl_time  logged_time\n",
       "r50             105.733323    6.759748   549.239921\n",
       "r50-256bs       562.206567  447.623558   694.814695\n",
       "r50-phylum      412.944029  334.025393   535.758853\n",
       "r50-pytorch     162.171962    5.562496   679.788115\n",
       "r50-1gpu        380.433915    0.000000  1114.814917\n",
       "r50-accum-4gpu  422.715904  338.533442   520.698596\n",
       "r50-tl           85.088445    3.880080   130.282719\n",
       "r101            496.882544  329.549190   630.082665"
      ]
     },
     "execution_count": 19,
     "metadata": {},
     "output_type": "execute_result"
    }
   ],
   "source": [
    "df = get_kern_dfs(trial_tup)\n",
    "df"
   ]
  },
  {
   "cell_type": "code",
   "execution_count": 20,
   "metadata": {},
   "outputs": [
    {
     "data": {
      "image/png": "[encoded data removed]",
      "text/plain": [
       "<Figure size 640x480 with 1 Axes>"
      ]
     },
     "metadata": {},
     "output_type": "display_data"
    }
   ],
   "source": [
    "plt.title('total train time vs kernle & gpu time')\n",
    "plt.xlabel('run_type')\n",
    "plt.ylabel('Seconds')\n",
    "plt.plot(df)\n",
    "plt.legend(df.columns)\n",
    "plt.xticks(rotation=90);"
   ]
  },
  {
   "cell_type": "code",
   "execution_count": 21,
   "metadata": {},
   "outputs": [],
   "source": [
    "df['description'] = trial_desc\n",
    "df.to_csv('train_vs_gpu_time.csv', index=False)"
   ]
  },
  {
   "cell_type": "code",
   "execution_count": 22,
   "metadata": {},
   "outputs": [
    {
     "data": {
      "text/html": [
       "<div>\n",
       "<style scoped>\n",
       "    .dataframe tbody tr th:only-of-type {\n",
       "        vertical-align: middle;\n",
       "    }\n",
       "\n",
       "    .dataframe tbody tr th {\n",
       "        vertical-align: top;\n",
       "    }\n",
       "\n",
       "    .dataframe thead th {\n",
       "        text-align: right;\n",
       "    }\n",
       "</style>\n",
       "<table border=\"1\" class=\"dataframe\">\n",
       "  <thead>\n",
       "    <tr style=\"text-align: right;\">\n",
       "      <th></th>\n",
       "      <th>kern_time</th>\n",
       "      <th>nccl_time</th>\n",
       "      <th>logged_time</th>\n",
       "      <th>description</th>\n",
       "    </tr>\n",
       "  </thead>\n",
       "  <tbody>\n",
       "    <tr>\n",
       "      <th>r50</th>\n",
       "      <td>105.733323</td>\n",
       "      <td>6.759748</td>\n",
       "      <td>549.239921</td>\n",
       "      <td>res50 + 512bs + species class + deep-taxon dat...</td>\n",
       "    </tr>\n",
       "    <tr>\n",
       "      <th>r50-256bs</th>\n",
       "      <td>562.206567</td>\n",
       "      <td>447.623558</td>\n",
       "      <td>694.814695</td>\n",
       "      <td>res50 + 256bs + species class + deep-taxon dat...</td>\n",
       "    </tr>\n",
       "    <tr>\n",
       "      <th>r50-phylum</th>\n",
       "      <td>412.944029</td>\n",
       "      <td>334.025393</td>\n",
       "      <td>535.758853</td>\n",
       "      <td>res50 + 512bs + phylum class + deep-taxon data...</td>\n",
       "    </tr>\n",
       "    <tr>\n",
       "      <th>r50-pytorch</th>\n",
       "      <td>162.171962</td>\n",
       "      <td>5.562496</td>\n",
       "      <td>679.788115</td>\n",
       "      <td>res50 + 512bs + species class + dt dl + pytorc...</td>\n",
       "    </tr>\n",
       "    <tr>\n",
       "      <th>r50-1gpu</th>\n",
       "      <td>380.433915</td>\n",
       "      <td>0.000000</td>\n",
       "      <td>1114.814917</td>\n",
       "      <td>res50 + 512bs + species class + dt dl + 1gpu</td>\n",
       "    </tr>\n",
       "    <tr>\n",
       "      <th>r50-accum-4gpu</th>\n",
       "      <td>422.715904</td>\n",
       "      <td>338.533442</td>\n",
       "      <td>520.698596</td>\n",
       "      <td>res50 + 512bs + 4epoch grad accum + species cl...</td>\n",
       "    </tr>\n",
       "    <tr>\n",
       "      <th>r50-tl</th>\n",
       "      <td>85.088445</td>\n",
       "      <td>3.880080</td>\n",
       "      <td>130.282719</td>\n",
       "      <td>res50 + 512bs + species class + theoretical li...</td>\n",
       "    </tr>\n",
       "    <tr>\n",
       "      <th>r101</th>\n",
       "      <td>496.882544</td>\n",
       "      <td>329.549190</td>\n",
       "      <td>630.082665</td>\n",
       "      <td>res101 + 512bs + species classification, deep-...</td>\n",
       "    </tr>\n",
       "  </tbody>\n",
       "</table>\n",
       "</div>"
      ],
      "text/plain": [
       "                 kern_time   nccl_time  logged_time  \\\n",
       "r50             105.733323    6.759748   549.239921   \n",
       "r50-256bs       562.206567  447.623558   694.814695   \n",
       "r50-phylum      412.944029  334.025393   535.758853   \n",
       "r50-pytorch     162.171962    5.562496   679.788115   \n",
       "r50-1gpu        380.433915    0.000000  1114.814917   \n",
       "r50-accum-4gpu  422.715904  338.533442   520.698596   \n",
       "r50-tl           85.088445    3.880080   130.282719   \n",
       "r101            496.882544  329.549190   630.082665   \n",
       "\n",
       "                                                      description  \n",
       "r50             res50 + 512bs + species class + deep-taxon dat...  \n",
       "r50-256bs       res50 + 256bs + species class + deep-taxon dat...  \n",
       "r50-phylum      res50 + 512bs + phylum class + deep-taxon data...  \n",
       "r50-pytorch     res50 + 512bs + species class + dt dl + pytorc...  \n",
       "r50-1gpu             res50 + 512bs + species class + dt dl + 1gpu  \n",
       "r50-accum-4gpu  res50 + 512bs + 4epoch grad accum + species cl...  \n",
       "r50-tl          res50 + 512bs + species class + theoretical li...  \n",
       "r101            res101 + 512bs + species classification, deep-...  "
      ]
     },
     "execution_count": 22,
     "metadata": {},
     "output_type": "execute_result"
    }
   ],
   "source": [
    "df"
   ]
  },
  {
   "cell_type": "code",
   "execution_count": 28,
   "metadata": {},
   "outputs": [],
   "source": [
    "#extract relevant information for gpu memory and time and save them into their own respective csv files\n",
    "def get_nsys_reports(trial_name, parent_directory, folder_destination='artifacts/'):\n",
    "    report_paths = glob.glob(parent_directory + '/*-rep')\n",
    "    time_holder, size_holder = [], []\n",
    "    for path in report_paths:\n",
    "        time_csv = !nsys stats --report=gpumemtimesum --format csv -q $path\n",
    "        size_csv = !nsys stats --report=gpumemsizesum --format csv -q $path\n",
    "        time_holder.append(df_from_csv(time_csv))\n",
    "        size_holder.append(df_from_csv(size_csv))\n",
    "    time_df = pd.concat(time_holder, axis=0, ignore_index=True)\n",
    "    size_df = pd.concat(size_holder, axis=0, ignore_index=True)\n",
    "    time_df.to_csv(folder_destination + trial_name +'-time.csv', index=False)\n",
    "    size_df.to_csv(folder_destination + trial_name +'-size.csv', index=False)\n",
    "    return time_df, size_df"
   ]
  },
  {
   "cell_type": "code",
   "execution_count": 35,
   "metadata": {},
   "outputs": [],
   "source": [
    "def get_run_dfs(run_type, parent_dir='artifacts/'):\n",
    "    time_df = pd.read_csv(parent_dir + run_type + '-time.csv')\n",
    "    size_df = pd.read_csv(parent_dir + run_type + '-size.csv')\n",
    "    time_df['run_type'] = run_type\n",
    "    size_df['run_type'] = run_type\n",
    "    num_gpus = len(time_df)\n",
    "    time_df['rank'] = np.arange(num_gpus) // 4\n",
    "    size_df['rank'] = np.arange(num_gpus) // 4\n",
    "    return time_df, size_df\n",
    "\n",
    "def get_dfs(trial_names):\n",
    "    size_dfs, time_dfs = [], []\n",
    "    for run_type in trial_names:\n",
    "        time_df, size_df = get_run_dfs(run_type)\n",
    "        time_dfs.append(time_df)\n",
    "        size_dfs.append(size_df)\n",
    "    size_df = pd.concat(size_dfs)\n",
    "    time_df = pd.concat(time_dfs)\n",
    "    return size_df, time_df"
   ]
  },
  {
   "cell_type": "code",
   "execution_count": 36,
   "metadata": {},
   "outputs": [],
   "source": [
    "for name, path in trial_tup:\n",
    "    _, _ = get_nsys_reports(name, path)"
   ]
  },
  {
   "cell_type": "code",
   "execution_count": 37,
   "metadata": {},
   "outputs": [
    {
     "data": {
      "text/plain": [
       "((116, 10), (116, 11))"
      ]
     },
     "execution_count": 37,
     "metadata": {},
     "output_type": "execute_result"
    }
   ],
   "source": [
    "size_dfs, time_dfs = get_dfs(trial_names)\n",
    "size_dfs.shape, time_dfs.shape"
   ]
  },
  {
   "cell_type": "code",
   "execution_count": null,
   "metadata": {},
   "outputs": [],
   "source": []
  }
 ],
 "metadata": {
  "kernelspec": {
   "display_name": "dt-scratch",
   "language": "python",
   "name": "dt-scratch"
  },
  "language_info": {
   "codemirror_mode": {
    "name": "ipython",
    "version": 3
   },
   "file_extension": ".py",
   "mimetype": "text/x-python",
   "name": "python",
   "nbconvert_exporter": "python",
   "pygments_lexer": "ipython3",
   "version": "3.10.6"
  },
  "vscode": {
   "interpreter": {
    "hash": "31f2aee4e71d21fbe5cf8b01ff0e069b9275f58929596ceb00d14d90e3e16cd6"
   }
  }
 },
 "nbformat": 4,
 "nbformat_minor": 4
}
