{
 "cells": [
  {
   "cell_type": "code",
   "execution_count": 1,
   "metadata": {},
   "outputs": [],
   "source": [
    "import matplotlib.pyplot as plt\n",
    "import pandas as pd\n",
    "import numpy as np\n",
    "import glob\n",
    "import os"
   ]
  },
  {
   "cell_type": "code",
   "execution_count": 2,
   "metadata": {},
   "outputs": [
    {
     "data": {
      "text/plain": [
       "(16,\n",
       " ['r50-accum-4gpu-time.csv',\n",
       "  'r50-accum-4gpu-size.csv',\n",
       "  'r50-256bs-size.csv',\n",
       "  'r50-phylum-size.csv'])"
      ]
     },
     "execution_count": 2,
     "metadata": {},
     "output_type": "execute_result"
    }
   ],
   "source": [
    "os.chdir('/global/cfs/cdirs/m3513/azaidi/new_trials/profile_artifacts')\n",
    "file_names = glob.glob('*.csv')\n",
    "len(file_names), file_names[:4]"
   ]
  },
  {
   "cell_type": "code",
   "execution_count": 3,
   "metadata": {},
   "outputs": [
    {
     "data": {
      "text/plain": [
       "['r50-pytorch',\n",
       " 'r50-accum-4gpu',\n",
       " 'r50-1gpu',\n",
       " 'r50-accum-1gpu',\n",
       " 'r101',\n",
       " 'r50',\n",
       " 'r50-phylum',\n",
       " 'r50-256bs']"
      ]
     },
     "execution_count": 3,
     "metadata": {},
     "output_type": "execute_result"
    }
   ],
   "source": [
    "run_types = list(set([name[:-9] for name in file_names]))\n",
    "run_types"
   ]
  },
  {
   "cell_type": "code",
   "execution_count": 4,
   "metadata": {},
   "outputs": [],
   "source": [
    "trial_names = ['r50-accum-4gpu',\n",
    "            'r50-pytorch',\n",
    "            'r50-phylum',\n",
    "            'r50',\n",
    "            'r50-256bs',\n",
    "            'r101']"
   ]
  },
  {
   "cell_type": "code",
   "execution_count": 5,
   "metadata": {},
   "outputs": [],
   "source": [
    "def get_run_dfs(run_type):\n",
    "    time_df = pd.read_csv(run_type + '-time.csv')\n",
    "    size_df = pd.read_csv(run_type + '-size.csv')\n",
    "    time_df['run_type'] = run_type\n",
    "    size_df['run_type'] = run_type\n",
    "    num_gpus = len(time_df)\n",
    "    time_df['rank'] = np.arange(num_gpus) // 4\n",
    "    size_df['rank'] = np.arange(num_gpus) // 4\n",
    "    return time_df, size_df\n",
    "\n",
    "def get_dfs(trial_names):\n",
    "    size_dfs, time_dfs = [], []\n",
    "    for run_type in run_types:\n",
    "        time_df, size_df = get_run_dfs(run_type)\n",
    "        time_dfs.append(time_df)\n",
    "        size_dfs.append(size_df)\n",
    "    size_df = pd.concat(size_dfs)\n",
    "    time_df = pd.concat(time_dfs)\n",
    "    return size_df, time_df"
   ]
  },
  {
   "cell_type": "code",
   "execution_count": 6,
   "metadata": {},
   "outputs": [
    {
     "data": {
      "text/plain": [
       "((100, 10), (100, 11))"
      ]
     },
     "execution_count": 6,
     "metadata": {},
     "output_type": "execute_result"
    }
   ],
   "source": [
    "time_df, size_df = get_dfs(trial_names)\n",
    "time_cols = time_df.columns\n",
    "size_cols = size_df.columns\n",
    "time_df.shape, size_df.shape"
   ]
  },
  {
   "cell_type": "code",
   "execution_count": null,
   "metadata": {},
   "outputs": [],
   "source": []
  }
 ],
 "metadata": {
  "kernelspec": {
   "display_name": "dt-scratch",
   "language": "python",
   "name": "dt-scratch"
  },
  "language_info": {
   "codemirror_mode": {
    "name": "ipython",
    "version": 3
   },
   "file_extension": ".py",
   "mimetype": "text/x-python",
   "name": "python",
   "nbconvert_exporter": "python",
   "pygments_lexer": "ipython3",
   "version": "3.10.6"
  },
  "orig_nbformat": 4,
  "vscode": {
   "interpreter": {
    "hash": "31f2aee4e71d21fbe5cf8b01ff0e069b9275f58929596ceb00d14d90e3e16cd6"
   }
  }
 },
 "nbformat": 4,
 "nbformat_minor": 2
}
