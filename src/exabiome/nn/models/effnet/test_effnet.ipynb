{
 "cells": [
  {
   "cell_type": "markdown",
   "id": "d9076e7e-5a9b-4f5a-bbd9-31c89aa3301a",
   "metadata": {},
   "source": [
    "This just ellucidates and confirms that our effnet is doing what we expected"
   ]
  },
  {
   "cell_type": "code",
   "execution_count": 1,
   "id": "35124d4f-6c43-4d31-82b3-8ece6b9fd43e",
   "metadata": {},
   "outputs": [
    {
     "name": "stderr",
     "output_type": "stream",
     "text": [
      "/global/homes/a/azaidi/.conda/envs/zenv/lib/python3.8/site-packages/pytorch_lightning/metrics/__init__.py:43: LightningDeprecationWarning: `pytorch_lightning.metrics.*` module has been renamed to `torchmetrics.*` and split off to its own package (https://github.com/PyTorchLightning/metrics) since v1.3 and will be removed in v1.5\n",
      "  rank_zero_deprecation(\n"
     ]
    }
   ],
   "source": [
    "#from model import *\n",
    "\n",
    "import torch\n",
    "import numpy as np\n",
    "import pandas as pd\n",
    "import os\n",
    "import h5py\n",
    "from exabiome.nn.loader import read_dataset, LazySeqDataset, train_test_loaders\n",
    "import argparse\n",
    "from torch.utils.data import Dataset, DataLoader\n",
    "import torch.nn as nn\n",
    "from typing import Type, Any, Callable, Union, List, Optional"
   ]
  },
  {
   "cell_type": "code",
   "execution_count": 2,
   "id": "801f7888-a001-49ea-8070-d4ed9d49d936",
   "metadata": {},
   "outputs": [
    {
     "data": {
      "text/plain": [
       "torch.Size([64, 4096])"
      ]
     },
     "execution_count": 2,
     "metadata": {},
     "output_type": "execute_result"
    }
   ],
   "source": [
    "x = torch.randint(0, 19, (64,4096))\n",
    "x.shape"
   ]
  },
  {
   "cell_type": "code",
   "execution_count": 4,
   "id": "f0679d3b-d2bc-4a3a-83a6-7a666e9a3893",
   "metadata": {},
   "outputs": [
    {
     "data": {
      "text/plain": [
       "torch.Size([64, 4096, 8])"
      ]
     },
     "execution_count": 4,
     "metadata": {},
     "output_type": "execute_result"
    }
   ],
   "source": [
    "emb_out = nn.Embedding(20,8)(x)\n",
    "emb_out.shape"
   ]
  },
  {
   "cell_type": "code",
   "execution_count": 5,
   "id": "d49a420c-91ef-4f21-bb5c-f4263e21163f",
   "metadata": {},
   "outputs": [
    {
     "data": {
      "text/plain": [
       "torch.Size([64, 8, 4096])"
      ]
     },
     "execution_count": 5,
     "metadata": {},
     "output_type": "execute_result"
    }
   ],
   "source": [
    "emb_out.permute(0,2,1).shape"
   ]
  },
  {
   "cell_type": "code",
   "execution_count": 6,
   "id": "5b481e69-a3c7-4d03-908c-29938ba15c56",
   "metadata": {},
   "outputs": [
    {
     "data": {
      "text/plain": [
       "torch.Size([64, 32, 4095])"
      ]
     },
     "execution_count": 6,
     "metadata": {},
     "output_type": "execute_result"
    }
   ],
   "source": [
    "nn.Conv1d(8, 32, 2)(emb_out.permute(0,2,1)).shape"
   ]
  },
  {
   "cell_type": "code",
   "execution_count": 2,
   "id": "6f9d08c4-cea0-4cad-a34e-6dd34271ca20",
   "metadata": {},
   "outputs": [],
   "source": [
    "hparams = argparse.Namespace(**{'load': False,\n",
    "                            'window': 4096,\n",
    "                            'step': 4096,\n",
    "                             'classify': False,\n",
    "                               'tgt_tax_lvl': \"species\",\n",
    "                               'fwd_only': True,\n",
    "                                #'input':path,\n",
    "                               'manifold': True})"
   ]
  },
  {
   "cell_type": "code",
   "execution_count": 5,
   "id": "a57686ba-43d1-4b65-bc64-326a63c4be0c",
   "metadata": {},
   "outputs": [],
   "source": [
    "path = '/global/homes/a/azaidi/scratch/azaidi/taxon_trials/ar122_r202.rep.h5'\n",
    "#path = 'global/cscratch1/sd/azaidi/taxon_trials/ar122_r202.rep.h5'\n",
    "chunks = LazySeqDataset(hparams=hparams, \n",
    "                        path=path,\n",
    "                       keep_open=True)\n"
   ]
  },
  {
   "cell_type": "code",
   "execution_count": 5,
   "id": "ebbf461b-6afc-447d-b43d-903e743db421",
   "metadata": {},
   "outputs": [
    {
     "data": {
      "text/plain": [
       "(torch.Size([16, 4096]), torch.Size([16, 16]))"
      ]
     },
     "execution_count": 5,
     "metadata": {},
     "output_type": "execute_result"
    }
   ],
   "source": [
    "x = batch[1]\n",
    "y = batch[2]\n",
    "x.shape, y.shape"
   ]
  },
  {
   "cell_type": "code",
   "execution_count": 7,
   "id": "d94a8988-038a-463c-a288-8229f1846207",
   "metadata": {},
   "outputs": [
    {
     "ename": "NameError",
     "evalue": "name 'EffNet_b0' is not defined",
     "output_type": "error",
     "traceback": [
      "\u001b[0;31m---------------------------------------------------------------------------\u001b[0m",
      "\u001b[0;31mNameError\u001b[0m                                 Traceback (most recent call last)",
      "\u001b[0;32m<ipython-input-7-2d8fe364dd95>\u001b[0m in \u001b[0;36m<module>\u001b[0;34m\u001b[0m\n\u001b[0;32m----> 1\u001b[0;31m \u001b[0mmodel\u001b[0m \u001b[0;34m=\u001b[0m \u001b[0mEffNet_b0\u001b[0m\u001b[0;34m(\u001b[0m\u001b[0mout_feats\u001b[0m\u001b[0;34m=\u001b[0m\u001b[0;36m1\u001b[0m\u001b[0;34m,\u001b[0m \u001b[0mn_classes\u001b[0m\u001b[0;34m=\u001b[0m\u001b[0;36m16\u001b[0m\u001b[0;34m)\u001b[0m\u001b[0;34m\u001b[0m\u001b[0;34m\u001b[0m\u001b[0m\n\u001b[0m",
      "\u001b[0;31mNameError\u001b[0m: name 'EffNet_b0' is not defined"
     ]
    }
   ],
   "source": [
    "model = EffNet_b0(out_feats=1, n_classes=16)"
   ]
  },
  {
   "cell_type": "code",
   "execution_count": 7,
   "id": "75e38c55-e813-4e01-b465-10ee298f05ad",
   "metadata": {},
   "outputs": [
    {
     "data": {
      "text/plain": [
       "(torch.Size([16, 16, 1]), torch.Size([16, 16]))"
      ]
     },
     "execution_count": 7,
     "metadata": {},
     "output_type": "execute_result"
    }
   ],
   "source": [
    "out = model(x.unsqueeze(1).to(torch.float))\n",
    "out.shape, y.shape"
   ]
  },
  {
   "cell_type": "markdown",
   "id": "c7c7b402-c47b-47f9-b09f-21e92838e029",
   "metadata": {},
   "source": [
    "Looks like the forward pass does what's expected - now to just confirm with the loss function"
   ]
  },
  {
   "cell_type": "code",
   "execution_count": null,
   "id": "bd23e666-55a6-41ff-8805-4a2c4ee5e0a8",
   "metadata": {},
   "outputs": [],
   "source": [
    "class DistMSELoss(nn.Module):\n",
    "\n",
    "    def __init__(self):\n",
    "        super().__init__()\n",
    "\n",
    "    def forward(self, output, target):\n",
    "        x2 = output.pow(2).sum(axis=1)\n",
    "        xy = 2*output.mm(output.T)\n",
    "        dist = (((x2 - xy).T + x2))\n",
    "        n = output.shape[0]\n",
    "        loss = (dist - target).pow(2).sum()/(n*(n-1))\n",
    "        return loss"
   ]
  },
  {
   "cell_type": "code",
   "execution_count": 12,
   "id": "43c7b5f3-8ef3-4136-ad7d-7506d282d3ab",
   "metadata": {},
   "outputs": [
    {
     "ename": "NameError",
     "evalue": "name 'DistMSELoss' is not defined",
     "output_type": "error",
     "traceback": [
      "\u001b[0;31m---------------------------------------------------------------------------\u001b[0m",
      "\u001b[0;31mNameError\u001b[0m                                 Traceback (most recent call last)",
      "\u001b[0;32m<ipython-input-12-30b7e706d16b>\u001b[0m in \u001b[0;36m<module>\u001b[0;34m\u001b[0m\n\u001b[0;32m----> 1\u001b[0;31m \u001b[0mDistMSELoss\u001b[0m\u001b[0;34m(\u001b[0m\u001b[0;34m)\u001b[0m\u001b[0;34m(\u001b[0m\u001b[0mout\u001b[0m\u001b[0;34m.\u001b[0m\u001b[0msqueeze\u001b[0m\u001b[0;34m(\u001b[0m\u001b[0;36m2\u001b[0m\u001b[0;34m)\u001b[0m\u001b[0;34m,\u001b[0m \u001b[0my\u001b[0m\u001b[0;34m)\u001b[0m\u001b[0;34m\u001b[0m\u001b[0;34m\u001b[0m\u001b[0m\n\u001b[0m",
      "\u001b[0;31mNameError\u001b[0m: name 'DistMSELoss' is not defined"
     ]
    }
   ],
   "source": [
    "DistMSELoss()(out.squeeze(2), y)"
   ]
  },
  {
   "cell_type": "code",
   "execution_count": null,
   "id": "bcf5b9d8-eee9-4b89-b8ea-794e723234f2",
   "metadata": {},
   "outputs": [],
   "source": []
  }
 ],
 "metadata": {
  "kernelspec": {
   "display_name": "zenv",
   "language": "python",
   "name": "zenv"
  },
  "language_info": {
   "codemirror_mode": {
    "name": "ipython",
    "version": 3
   },
   "file_extension": ".py",
   "mimetype": "text/x-python",
   "name": "python",
   "nbconvert_exporter": "python",
   "pygments_lexer": "ipython3",
   "version": "3.8.10"
  }
 },
 "nbformat": 4,
 "nbformat_minor": 5
}
